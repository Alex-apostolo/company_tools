{
 "cells": [
  {
   "cell_type": "code",
   "execution_count": null,
   "metadata": {},
   "outputs": [],
   "source": [
    "!pip install pandas numpy scikit-learn seaborn bs4 sentence_transformers datasets transformers[torch] openai -q"
   ]
  },
  {
   "cell_type": "code",
   "execution_count": 3,
   "metadata": {},
   "outputs": [],
   "source": [
    "import pandas as pd\n",
    "\n",
    "df = pd.read_json(\"ml-challenge-dataset.jsonl\", lines=True)"
   ]
  },
  {
   "cell_type": "code",
   "execution_count": 4,
   "metadata": {},
   "outputs": [
    {
     "name": "stdout",
     "output_type": "stream",
     "text": [
      "Dataframe Shape:  (5000, 4)\n"
     ]
    },
    {
     "data": {
      "text/html": [
       "<div>\n",
       "<style scoped>\n",
       "    .dataframe tbody tr th:only-of-type {\n",
       "        vertical-align: middle;\n",
       "    }\n",
       "\n",
       "    .dataframe tbody tr th {\n",
       "        vertical-align: top;\n",
       "    }\n",
       "\n",
       "    .dataframe thead th {\n",
       "        text-align: right;\n",
       "    }\n",
       "</style>\n",
       "<table border=\"1\" class=\"dataframe\">\n",
       "  <thead>\n",
       "    <tr style=\"text-align: right;\">\n",
       "      <th></th>\n",
       "      <th>sic</th>\n",
       "      <th>name</th>\n",
       "      <th>website_url</th>\n",
       "      <th>homepage_html</th>\n",
       "    </tr>\n",
       "  </thead>\n",
       "  <tbody>\n",
       "    <tr>\n",
       "      <th>0</th>\n",
       "      <td>[{'id': '58290', 'description': 'OTHER SOFTWAR...</td>\n",
       "      <td>AMPLIENCE (UK) LIMITED</td>\n",
       "      <td>https://amplience.com</td>\n",
       "      <td>&lt;!DOCTYPE html&gt;&lt;html lang=\"en\"&gt;&lt;head&gt;&lt;link rel...</td>\n",
       "    </tr>\n",
       "    <tr>\n",
       "      <th>1</th>\n",
       "      <td>[{'id': '93290', 'description': 'OTHER AMUSEME...</td>\n",
       "      <td>GREEN MAN GAMING HOLDINGS PLC</td>\n",
       "      <td>https://www.greenmangaming.com</td>\n",
       "      <td>﻿\\n&lt;!DOCTYPE html&gt;\\n&lt;html lang=\"en\" ng-app=\"gm...</td>\n",
       "    </tr>\n",
       "    <tr>\n",
       "      <th>2</th>\n",
       "      <td>[{'id': '32990', 'description': 'OTHER MANUFAC...</td>\n",
       "      <td>THE ELECTROSPINNING COMPANY LIMITED</td>\n",
       "      <td>http://www.electrospinning.co.uk</td>\n",
       "      <td>\\n&lt;!doctype html&gt;\\n\\n&lt;!--[if lt IE 7]&gt;&lt;html la...</td>\n",
       "    </tr>\n",
       "    <tr>\n",
       "      <th>3</th>\n",
       "      <td>[{'id': '72190', 'description': 'OTHER RESEARC...</td>\n",
       "      <td>ORGANOX LIMITED</td>\n",
       "      <td>https://www.organox.com</td>\n",
       "      <td>&lt;!doctype html&gt;\\n&lt;!--[if lt IE 7]&gt; &lt;html class...</td>\n",
       "    </tr>\n",
       "    <tr>\n",
       "      <th>4</th>\n",
       "      <td>[{'id': '32120', 'description': 'MANUFACTURE O...</td>\n",
       "      <td>MONICA VINADER LIMITED</td>\n",
       "      <td>https://www.monicavinader.com</td>\n",
       "      <td>&lt;!DOCTYPE html&gt;\\n&lt;html lang=\"en\" class=\"no-js\"...</td>\n",
       "    </tr>\n",
       "  </tbody>\n",
       "</table>\n",
       "</div>"
      ],
      "text/plain": [
       "                                                 sic  \\\n",
       "0  [{'id': '58290', 'description': 'OTHER SOFTWAR...   \n",
       "1  [{'id': '93290', 'description': 'OTHER AMUSEME...   \n",
       "2  [{'id': '32990', 'description': 'OTHER MANUFAC...   \n",
       "3  [{'id': '72190', 'description': 'OTHER RESEARC...   \n",
       "4  [{'id': '32120', 'description': 'MANUFACTURE O...   \n",
       "\n",
       "                                  name                       website_url  \\\n",
       "0               AMPLIENCE (UK) LIMITED             https://amplience.com   \n",
       "1        GREEN MAN GAMING HOLDINGS PLC    https://www.greenmangaming.com   \n",
       "2  THE ELECTROSPINNING COMPANY LIMITED  http://www.electrospinning.co.uk   \n",
       "3                      ORGANOX LIMITED           https://www.organox.com   \n",
       "4               MONICA VINADER LIMITED     https://www.monicavinader.com   \n",
       "\n",
       "                                       homepage_html  \n",
       "0  <!DOCTYPE html><html lang=\"en\"><head><link rel...  \n",
       "1  ﻿\\n<!DOCTYPE html>\\n<html lang=\"en\" ng-app=\"gm...  \n",
       "2  \\n<!doctype html>\\n\\n<!--[if lt IE 7]><html la...  \n",
       "3  <!doctype html>\\n<!--[if lt IE 7]> <html class...  \n",
       "4  <!DOCTYPE html>\\n<html lang=\"en\" class=\"no-js\"...  "
      ]
     },
     "execution_count": 4,
     "metadata": {},
     "output_type": "execute_result"
    }
   ],
   "source": [
    "print(\"Dataframe Shape: \", df.shape)\n",
    "df.head()"
   ]
  },
  {
   "cell_type": "code",
   "execution_count": 5,
   "metadata": {},
   "outputs": [
    {
     "name": "stdout",
     "output_type": "stream",
     "text": [
      "<class 'pandas.core.frame.DataFrame'>\n",
      "RangeIndex: 5000 entries, 0 to 4999\n",
      "Data columns (total 4 columns):\n",
      " #   Column         Non-Null Count  Dtype \n",
      "---  ------         --------------  ----- \n",
      " 0   sic            5000 non-null   object\n",
      " 1   name           5000 non-null   object\n",
      " 2   website_url    5000 non-null   object\n",
      " 3   homepage_html  5000 non-null   object\n",
      "dtypes: object(4)\n",
      "memory usage: 156.4+ KB\n"
     ]
    }
   ],
   "source": [
    "df.info()"
   ]
  },
  {
   "cell_type": "code",
   "execution_count": 6,
   "metadata": {},
   "outputs": [
    {
     "data": {
      "text/html": [
       "<div>\n",
       "<style scoped>\n",
       "    .dataframe tbody tr th:only-of-type {\n",
       "        vertical-align: middle;\n",
       "    }\n",
       "\n",
       "    .dataframe tbody tr th {\n",
       "        vertical-align: top;\n",
       "    }\n",
       "\n",
       "    .dataframe thead th {\n",
       "        text-align: right;\n",
       "    }\n",
       "</style>\n",
       "<table border=\"1\" class=\"dataframe\">\n",
       "  <thead>\n",
       "    <tr style=\"text-align: right;\">\n",
       "      <th></th>\n",
       "      <th>sic</th>\n",
       "      <th>name</th>\n",
       "      <th>website_url</th>\n",
       "      <th>homepage_html</th>\n",
       "    </tr>\n",
       "  </thead>\n",
       "  <tbody>\n",
       "    <tr>\n",
       "      <th>count</th>\n",
       "      <td>5000</td>\n",
       "      <td>5000</td>\n",
       "      <td>5000</td>\n",
       "      <td>5000</td>\n",
       "    </tr>\n",
       "    <tr>\n",
       "      <th>unique</th>\n",
       "      <td>1240</td>\n",
       "      <td>5000</td>\n",
       "      <td>5000</td>\n",
       "      <td>4998</td>\n",
       "    </tr>\n",
       "    <tr>\n",
       "      <th>top</th>\n",
       "      <td>[{'id': '82990', 'description': 'OTHER BUSINES...</td>\n",
       "      <td>AMPLIENCE (UK) LIMITED</td>\n",
       "      <td>https://amplience.com</td>\n",
       "      <td>&lt;!doctype html&gt;&lt;html lang=\"en\"&gt;&lt;head&gt;&lt;meta htt...</td>\n",
       "    </tr>\n",
       "    <tr>\n",
       "      <th>freq</th>\n",
       "      <td>250</td>\n",
       "      <td>1</td>\n",
       "      <td>1</td>\n",
       "      <td>3</td>\n",
       "    </tr>\n",
       "  </tbody>\n",
       "</table>\n",
       "</div>"
      ],
      "text/plain": [
       "                                                      sic  \\\n",
       "count                                                5000   \n",
       "unique                                               1240   \n",
       "top     [{'id': '82990', 'description': 'OTHER BUSINES...   \n",
       "freq                                                  250   \n",
       "\n",
       "                          name            website_url  \\\n",
       "count                     5000                   5000   \n",
       "unique                    5000                   5000   \n",
       "top     AMPLIENCE (UK) LIMITED  https://amplience.com   \n",
       "freq                         1                      1   \n",
       "\n",
       "                                            homepage_html  \n",
       "count                                                5000  \n",
       "unique                                               4998  \n",
       "top     <!doctype html><html lang=\"en\"><head><meta htt...  \n",
       "freq                                                    3  "
      ]
     },
     "execution_count": 6,
     "metadata": {},
     "output_type": "execute_result"
    }
   ],
   "source": [
    "described_df = df.describe()\n",
    "described_df"
   ]
  },
  {
   "cell_type": "code",
   "execution_count": 7,
   "metadata": {},
   "outputs": [
    {
     "data": {
      "text/plain": [
       "<Axes: xlabel='description'>"
      ]
     },
     "execution_count": 7,
     "metadata": {},
     "output_type": "execute_result"
    },
    {
     "data": {
      "image/png": "[encoded data removed]",
      "text/plain": [
       "<Figure size 640x480 with 1 Axes>"
      ]
     },
     "metadata": {},
     "output_type": "display_data"
    }
   ],
   "source": [
    "# Explore description feature\n",
    "category_counts = df[\"sic\"].explode()\n",
    "category_counts = pd.json_normalize(category_counts)[\"description\"].value_counts()\n",
    "category_counts[:20].plot(kind=\"bar\")"
   ]
  },
  {
   "cell_type": "code",
   "execution_count": 8,
   "metadata": {},
   "outputs": [
    {
     "data": {
      "text/plain": [
       "0    Headless Content and Commerce. Simplified | Am...\n",
       "1    ﻿ Green Man Gaming | Buy Games, Game Keys & Di...\n",
       "2    The Electrospinning Company | Biomaterials | R...\n",
       "3    OrganOx - OrganOx Skip to content Contact Abou...\n",
       "4    Monica Vinader | Women’s Jewellery Order by pm...\n",
       "Name: cleaned_html, dtype: object"
      ]
     },
     "execution_count": 8,
     "metadata": {},
     "output_type": "execute_result"
    }
   ],
   "source": [
    "from bs4 import BeautifulSoup\n",
    "import re\n",
    "\n",
    "\n",
    "# Remove all script and style elements, replace multiple spaces with a single space\n",
    "def preprocess_html(html):\n",
    "    if not isinstance(html, str):\n",
    "        return \"\"\n",
    "\n",
    "    soup = BeautifulSoup(html, \"html.parser\")\n",
    "\n",
    "    # Remove all script and style elements\n",
    "    for script in soup([\"script\", \"style\"]):\n",
    "        script.decompose()\n",
    "\n",
    "    text = soup.get_text()\n",
    "\n",
    "    # Replace multiple spaces with a single space\n",
    "    text = re.sub(r\"\\s+\", \" \", text).strip()\n",
    "    # Remove all digits\n",
    "    text = re.sub(r\"\\d+\", \"\", text)\n",
    "    # Remove underscores\n",
    "    text = re.sub(r\"_\", \"\", text)\n",
    "\n",
    "    return text\n",
    "\n",
    "\n",
    "df[\"cleaned_html\"] = df[\"homepage_html\"].apply(preprocess_html)\n",
    "df[\"cleaned_html\"].head()"
   ]
  },
  {
   "cell_type": "code",
   "execution_count": 9,
   "metadata": {},
   "outputs": [
    {
     "data": {
      "text/plain": [
       "count      5000.000000\n",
       "mean       4095.661800\n",
       "std        5227.991512\n",
       "min           0.000000\n",
       "25%        1757.000000\n",
       "50%        3017.000000\n",
       "75%        4995.500000\n",
       "max      141808.000000\n",
       "Name: cleaned_html, dtype: float64"
      ]
     },
     "execution_count": 9,
     "metadata": {},
     "output_type": "execute_result"
    }
   ],
   "source": [
    "df[\"cleaned_html\"].apply(len).describe()"
   ]
  },
  {
   "cell_type": "code",
   "execution_count": 10,
   "metadata": {},
   "outputs": [
    {
     "data": {
      "text/plain": [
       "0           [headless, commerce, amplience, cms, mach]\n",
       "1                     [edition, cart, add, pc, deluxe]\n",
       "2    [electrospinning, biomaterials, cell, therapy,...\n",
       "3      [metra, organox, transplantation, liver, donor]\n",
       "4              [vermeil, ct, gold, pendant, jewellery]\n",
       "Name: top_5_most_frequent_words, dtype: object"
      ]
     },
     "execution_count": 10,
     "metadata": {},
     "output_type": "execute_result"
    }
   ],
   "source": [
    "from sklearn.feature_extraction.text import TfidfVectorizer\n",
    "\n",
    "vectorizer = TfidfVectorizer(stop_words=\"english\")\n",
    "tfidf_matrix = vectorizer.fit_transform(df[\"cleaned_html\"])\n",
    "df_tfidf = pd.DataFrame(\n",
    "    tfidf_matrix.toarray(), columns=vectorizer.get_feature_names_out()\n",
    ")\n",
    "df[\"top_5_most_frequent_words\"] = df_tfidf.apply(\n",
    "    lambda x: x.sort_values(ascending=False).head(5).index.tolist(), axis=1\n",
    ")\n",
    "df[\"top_5_most_frequent_words\"].head()"
   ]
  },
  {
   "cell_type": "markdown",
   "metadata": {},
   "source": [
    "# Save clean dataframe to create descriptions\n",
    "\n",
    "df.to_json(\"cleaned_ml_challenge_dataset.jsonl\", lines=True, orient=\"records\")\n"
   ]
  },
  {
   "cell_type": "code",
   "execution_count": 114,
   "metadata": {},
   "outputs": [
    {
     "data": {
      "text/plain": [
       "0    AMPLIENCE (UK) LIMITED is a leading provider o...\n",
       "1    Green Man Gaming Holdings PLC is a leading dig...\n",
       "2    The Electrospinning Company Limited is a pione...\n",
       "3    **ORGANOX LIMITED** is at the forefront of org...\n",
       "4    Monica Vinader Limited is a distinguished Brit...\n",
       "Name: description, dtype: object"
      ]
     },
     "execution_count": 114,
     "metadata": {},
     "output_type": "execute_result"
    }
   ],
   "source": [
    "df_descriptions = pd.read_csv(\"descriptions.csv\")\n",
    "df[\"description\"] = df_descriptions[\"Description\"]\n",
    "df[\"description\"].head()"
   ]
  },
  {
   "cell_type": "code",
   "execution_count": 115,
   "metadata": {},
   "outputs": [],
   "source": [
    "# Create sentence embeddings for the homepage_html feature\n",
    "from sentence_transformers import SentenceTransformer\n",
    "\n",
    "bert_model = SentenceTransformer(\"all-MiniLM-L6-v2\")\n",
    "df[\"description_bert_embedding\"] = df[\"description\"].apply(\n",
    "    lambda x: bert_model.encode(x, normalize_embeddings=True)\n",
    ")"
   ]
  },
  {
   "cell_type": "code",
   "execution_count": 116,
   "metadata": {},
   "outputs": [
    {
     "name": "stdout",
     "output_type": "stream",
     "text": [
      "Embedding length:  384\n"
     ]
    }
   ],
   "source": [
    "print(\"Embedding length: \", len(df[\"description_bert_embedding\"][0]))"
   ]
  },
  {
   "cell_type": "code",
   "execution_count": 117,
   "metadata": {},
   "outputs": [],
   "source": [
    "# Tool to get top N similar companies based on their description\n",
    "from sklearn.metrics.pairwise import cosine_similarity\n",
    "import numpy as np\n",
    "\n",
    "\n",
    "def get_top_n_similar_companies(description, n=5):\n",
    "    description_embedding = bert_model.encode(description, normalize_embeddings=True)\n",
    "\n",
    "    # Stack all embeddings into a single NumPy array for fast similarity computation\n",
    "    embeddings_matrix = np.vstack(df[\"description_bert_embedding\"].values)\n",
    "\n",
    "    # Compute cosine similarities in a single operation\n",
    "    similarities = cosine_similarity([description_embedding], embeddings_matrix)[0]\n",
    "\n",
    "    # Get the top N indices\n",
    "    top_indices = np.argsort(similarities)[-n:][::-1]\n",
    "\n",
    "    return df.iloc[top_indices][\"name\"]"
   ]
  },
  {
   "cell_type": "code",
   "execution_count": 118,
   "metadata": {},
   "outputs": [
    {
     "data": {
      "text/plain": [
       "1027      VIRUSTATIC TECHNOLOGY LTD\n",
       "1528             SPYBIOTECH LIMITED\n",
       "420            ADM PROTEXIN LIMITED\n",
       "3145    SITRYX THERAPEUTICS LIMITED\n",
       "4886       OVO BIOMANUFACTURING LTD\n",
       "Name: name, dtype: object"
      ]
     },
     "execution_count": 118,
     "metadata": {},
     "output_type": "execute_result"
    }
   ],
   "source": [
    "stablepharma_description = \"\"\"\n",
    "Stablepharma Ltd is a UK-based biopharmaceutical company specializing in the development of thermostable, fridge-free vaccines. Founded in 2012 by Nick Child and Dr. Bruce Roser, the company aims to eliminate the need for the global cold chain in vaccine storage and distribution, thereby reducing vaccine wastage and improving accessibility worldwide. \n",
    "The company's proprietary StablevaX™ technology reformulates existing vaccines into a stable, pre-dosed format that can be stored at room temperature for extended periods. This innovation not only enhances vaccine stability but also reduces costs and carbon emissions associated with refrigeration. \n",
    "Stablepharma's lead product, SPVX02, is a fridge-free vaccine for the prevention of tetanus and diphtheria. In December 2024, the company submitted a Clinical Trial Application to the UK's Medicines and Healthcare products Regulatory Agency (MHRA) for SPVX02, marking a significant milestone in its development. \n",
    "In recognition of its innovative approach, Stablepharma was awarded the 2024 Fierce Life Sciences Innovation Biotech Award and was a finalist for the Pharma Industry Awards UK 2024 Biotech of the Year. \n",
    "By addressing the challenges associated with vaccine storage and distribution, Stablepharma seeks to improve global health outcomes, particularly in regions where maintaining the cold chain is difficult. \n",
    "\"\"\"\n",
    "\n",
    "get_top_n_similar_companies(stablepharma_description)"
   ]
  },
  {
   "cell_type": "code",
   "execution_count": 119,
   "metadata": {},
   "outputs": [
    {
     "data": {
      "text/plain": [
       "4520                ALBACO LIMITED\n",
       "4897    BCB GROUP HOLDINGS LIMITED\n",
       "1365     HW FISHER SERVICE LIMITED\n",
       "4417            SBC MGA UK LIMITED\n",
       "3247          LAPWING ADVISERS LTD\n",
       "Name: name, dtype: object"
      ]
     },
     "execution_count": 119,
     "metadata": {},
     "output_type": "execute_result"
    }
   ],
   "source": [
    "hsbc_description = \"\"\"\n",
    "HSBC Holdings plc is a British multinational banking and financial services organization headquartered in London, England. Established in 1865 to facilitate trade between Europe and Asia, it has evolved into one of the world's largest banks, serving approximately 39 million customers across 62 countries and territories. \n",
    "The bank operates through four global businesses:\n",
    "Retail Banking and Wealth Management: Providing financial services to individuals and families.\n",
    "Commercial Banking: Offering services to small, medium, and large enterprises.\n",
    "Global Banking and Markets: Serving corporate and institutional clients.\n",
    "Global Private Banking: Catering to high-net-worth individuals.\n",
    "HSBC's extensive international network positions it as a key player in facilitating global trade and investment. The bank emphasizes a commitment to sustainability, aiming to support the transition to a net-zero global economy. \n",
    "In recent developments, HSBC has announced a strategic restructuring to streamline operations and enhance efficiency. This includes combining its investment and commercial banking functions outside the UK and Hong Kong, and appointing new leadership to drive these changes.\n",
    "\"\"\"\n",
    "\n",
    "get_top_n_similar_companies(hsbc_description)"
   ]
  },
  {
   "cell_type": "code",
   "execution_count": 120,
   "metadata": {},
   "outputs": [
    {
     "data": {
      "text/plain": [
       "2060                      BHA HOLDINGS LTD\n",
       "3060           BRENIG CONSTRUCTION LIMITED\n",
       "3948    BUILDING DESIGN (NORTHERN) LIMITED\n",
       "2907           THE BRIDGFORD GROUP LIMITED\n",
       "2828       CRONDALL ENERGY CONSULTANTS LTD\n",
       "Name: name, dtype: object"
      ]
     },
     "execution_count": 120,
     "metadata": {},
     "output_type": "execute_result"
    }
   ],
   "source": [
    "craddys_description = \"\"\"\n",
    "Craddys is a leading civil and structural engineering design consultancy with over 45 years of experience. \n",
    "Founded in 1977, the firm operates from offices in Bristol, Exeter, Wakefield, and Cardiff, employing a team of more than 70 engineering professionals. \n",
    "Craddys offers a range of services, including structural engineering, civil engineering, and temporary works design, delivering economic and well-engineered solutions tailored to clients' needs. The company is committed to sustainable design practices, focusing on low-carbon and adaptable solutions to minimize environmental impact. \n",
    "\"\"\"\n",
    "\n",
    "get_top_n_similar_companies(craddys_description)"
   ]
  },
  {
   "cell_type": "code",
   "execution_count": null,
   "metadata": {},
   "outputs": [
    {
     "name": "stderr",
     "output_type": "stream",
     "text": [
      "Some weights of DistilBertForSequenceClassification were not initialized from the model checkpoint at distilbert-base-uncased and are newly initialized: ['classifier.bias', 'classifier.weight', 'pre_classifier.bias', 'pre_classifier.weight']\n",
      "You should probably TRAIN this model on a down-stream task to be able to use it for predictions and inference.\n",
      "Map: 100%|██████████| 5000/5000 [00:02<00:00, 1958.39 examples/s]\n"
     ]
    }
   ],
   "source": [
    "from sklearn.preprocessing import MultiLabelBinarizer\n",
    "from transformers import AutoTokenizer, AutoModelForSequenceClassification\n",
    "from datasets import Dataset\n",
    "import torch\n",
    "\n",
    "model_name = \"distilbert-base-uncased\"\n",
    "\n",
    "model = AutoModelForSequenceClassification.from_pretrained(\n",
    "    model_name, num_labels=3, problem_type=\"multi_label_classification\"\n",
    ")\n",
    "tokenizer = AutoTokenizer.from_pretrained(model_name)\n",
    "\n",
    "df_classification = df[[\"description\", \"sic\"]].copy()\n",
    "df_classification[\"sic\"] = df_classification[\"sic\"].apply(\n",
    "    lambda x: [val[\"id\"] for val in x]\n",
    ")\n",
    "\n",
    "mlb = MultiLabelBinarizer()\n",
    "y = mlb.fit_transform(df_classification[\"sic\"])\n",
    "df_classification[\"labels\"] = list(y)\n",
    "df_classification = df_classification.drop(columns=[\"sic\"])\n",
    "df_classification = df_classification.rename(columns={\"description\": \"text\"})\n",
    "dataset = Dataset.from_pandas(df_classification)\n",
    "\n",
    "def preprocess_data(example):\n",
    "    return tokenizer(example[\"text\"], padding=\"max_length\", truncation=True)\n",
    "\n",
    "tokenized_dataset = dataset.map(preprocess_data, batched=True)"
   ]
  },
  {
   "cell_type": "code",
   "execution_count": 125,
   "metadata": {},
   "outputs": [
    {
     "name": "stderr",
     "output_type": "stream",
     "text": [
      "Saving the dataset (1/1 shards): 100%|██████████| 5000/5000 [00:00<00:00, 22940.20 examples/s]\n"
     ]
    }
   ],
   "source": [
    "tokenized_dataset.save_to_disk(\"tokenized_dataset\")"
   ]
  },
  {
   "cell_type": "code",
   "execution_count": null,
   "metadata": {},
   "outputs": [],
   "source": [
    "from transformers import TrainingArguments, Trainer\n",
    "\n",
    "loaded_tokenized_dataset = Dataset.load_from_disk(\"tokenized_dataset\")\n",
    "\n",
    "training_args = TrainingArguments(\n",
    "    output_dir=\"./results\",\n",
    "    evaluation_strategy=\"epoch\",\n",
    "    per_device_train_batch_size=8,\n",
    "    per_device_eval_batch_size=8,\n",
    "    num_train_epochs=3,\n",
    "    weight_decay=0.01,\n",
    ")\n",
    "\n",
    "trainer = Trainer(\n",
    "    model=model,\n",
    "    args=training_args,\n",
    "    train_dataset=loaded_tokenized_dataset,\n",
    "    eval_dataset=loaded_tokenized_dataset,  # Normally, use a separate test set\n",
    "    tokenizer=tokenizer,\n",
    ")\n",
    "\n",
    "trainer.train()"
   ]
  },
  {
   "cell_type": "code",
   "execution_count": null,
   "metadata": {},
   "outputs": [],
   "source": [
    "def predict(text):\n",
    "    inputs = tokenizer(text, return_tensors=\"pt\", truncation=True, padding=True)\n",
    "    \n",
    "    with torch.no_grad():\n",
    "        logits = model(**inputs).logits  # Raw model outputs\n",
    "\n",
    "    probs = torch.sigmoid(logits)  # Convert to probabilities\n",
    "    predictions = (probs > 0.5).int()  # Apply threshold\n",
    "\n",
    "    return predictions.numpy()\n",
    "\n",
    "# 🔹 Test Predictions\n",
    "print(predict(\"A thrilling action-packed spy movie!\"))  # Expected: Action ✅, Thriller ✅\n",
    "print(predict(\"A lighthearted romantic comedy.\"))  # Expected: Comedy ✅"
   ]
  }
 ],
 "metadata": {
  "kernelspec": {
   "display_name": "beauhurst",
   "language": "python",
   "name": "python3"
  },
  "language_info": {
   "codemirror_mode": {
    "name": "ipython",
    "version": 3
   },
   "file_extension": ".py",
   "mimetype": "text/x-python",
   "name": "python",
   "nbconvert_exporter": "python",
   "pygments_lexer": "ipython3",
   "version": "3.11.11"
  }
 },
 "nbformat": 4,
 "nbformat_minor": 2
}
